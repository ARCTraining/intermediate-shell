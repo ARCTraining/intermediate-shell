{
 "cells": [
  {
   "cell_type": "markdown",
   "metadata": {},
   "source": [
    "**Loops** are key to productivity improvements through automation as they allow us to execute\n",
    "commands repetitively. Similar to wildcards and tab completion, using loops also reduces the\n",
    "amount of typing (and typing mistakes).\n",
    "Suppose we have several hundred snapshots data files named `snap001.txt`, `snap002.txt`, and so on.\n",
    "In this example,\n",
    "we'll use the `high_equilibrium/snapshots` directory which only has one hundred example files,\n",
    "but the principles can be applied to many many more files at once."
   ]
  },
  {
   "cell_type": "code",
   "execution_count": 1,
   "metadata": {},
   "outputs": [],
   "source": [
    "cd high_equilibrium/snapshots/"
   ]
  },
  {
   "cell_type": "code",
   "execution_count": 2,
   "metadata": {},
   "outputs": [
    {
     "name": "stdout",
     "output_type": "stream",
     "text": [
      "02-loop.Rmd  snap017.txt  snap034.txt  snap051.txt  snap068.txt  snap085.txt\n",
      "snap001.txt  snap018.txt  snap035.txt  snap052.txt  snap069.txt  snap086.txt\n",
      "snap002.txt  snap019.txt  snap036.txt  snap053.txt  snap070.txt  snap087.txt\n",
      "snap003.txt  snap020.txt  snap037.txt  snap054.txt  snap071.txt  snap088.txt\n",
      "snap004.txt  snap021.txt  snap038.txt  snap055.txt  snap072.txt  snap089.txt\n",
      "snap005.txt  snap022.txt  snap039.txt  snap056.txt  snap073.txt  snap090.txt\n",
      "snap006.txt  snap023.txt  snap040.txt  snap057.txt  snap074.txt  snap091.txt\n",
      "snap007.txt  snap024.txt  snap041.txt  snap058.txt  snap075.txt  snap092.txt\n",
      "snap008.txt  snap025.txt  snap042.txt  snap059.txt  snap076.txt  snap093.txt\n",
      "snap009.txt  snap026.txt  snap043.txt  snap060.txt  snap077.txt  snap094.txt\n",
      "snap010.txt  snap027.txt  snap044.txt  snap061.txt  snap078.txt  snap095.txt\n",
      "snap011.txt  snap028.txt  snap045.txt  snap062.txt  snap079.txt  snap096.txt\n",
      "snap012.txt  snap029.txt  snap046.txt  snap063.txt  snap080.txt  snap097.txt\n",
      "snap013.txt  snap030.txt  snap047.txt  snap064.txt  snap081.txt  snap098.txt\n",
      "snap014.txt  snap031.txt  snap048.txt  snap065.txt  snap082.txt  snap099.txt\n",
      "snap015.txt  snap032.txt  snap049.txt  snap066.txt  snap083.txt  snap100.txt\n",
      "snap016.txt  snap033.txt  snap050.txt  snap067.txt  snap084.txt  snap2run.list\n"
     ]
    }
   ],
   "source": [
    "ls"
   ]
  },
  {
   "cell_type": "markdown",
   "metadata": {},
   "source": [
    "We would like to modify these files, but also save a version of the original files, naming the copies\n",
    "`original-snap001.txt`, `original-snap002.txt`, and so on.\n",
    "We can't use:\n",
    "\n",
    "```\n",
    "cp *.txt original-*.txt\n",
    "```\n",
    "\n",
    "because that would expand to:\n",
    "\n",
    "```\n",
    "cp snap001.txt snap002.txt ... original-*.dat\n",
    "```\n",
    "\n",
    "This wouldn't back up our files, instead we get an error:"
   ]
  },
  {
   "cell_type": "code",
   "execution_count": 3,
   "metadata": {},
   "outputs": [
    {
     "name": "stdout",
     "output_type": "stream",
     "text": [
      "cp: target 'original-*.txt' is not a directory\n"
     ]
    },
    {
     "ename": "",
     "evalue": "1",
     "output_type": "error",
     "traceback": []
    }
   ],
   "source": [
    "cp *.txt original-*.txt"
   ]
  },
  {
   "cell_type": "markdown",
   "metadata": {},
   "source": [
    "This problem arises when `cp` receives more than two inputs. When this happens, it\n",
    "expects the last input to be a directory where it can copy all the files it was passed.\n",
    "Since there is no directory named `original-*.txt` in the `high_equilibrium/snapshots` directory we get an\n",
    "error.\n",
    "\n",
    "Instead, we can use a **loop**\n",
    "to do some operation once for each thing in a list.\n",
    "Here's a simple example that displays the first three lines of each file in turn:"
   ]
  },
  {
   "cell_type": "code",
   "execution_count": 4,
   "metadata": {},
   "outputs": [
    {
     "name": "stdout",
     "output_type": "stream",
     "text": [
      "Mass\tx\ty\tz\tvx\tvy\tvz\n",
      "M_sol\tParsecs\tParsecs\tParsecs\tkm/s\tkm/s\tkm/s\n",
      "\n",
      "0.11\t1.15\t0.6\t1.3\t-0.01\t0.89\t1.12\n",
      "Mass\tx\ty\tz\tvx\tvy\tvz\n",
      "M_sol\tParsecs\tParsecs\tParsecs\tkm/s\tkm/s\tkm/s\n",
      "\n",
      "0.11\t1.14\t0.68\t1.41\t-0.19\t0.75\t1.19\n"
     ]
    }
   ],
   "source": [
    "for filename in snap001.txt snap002.txt\n",
    "do\n",
    "  head -n 4 $filename\n",
    "done"
   ]
  },
  {
   "cell_type": "markdown",
   "metadata": {},
   "source": [
    "Note that it is common practice to indent the line(s) of code within a for loop.\n",
    "The only purpose is to make the code easier to read -- it is not required for the loop to run.\n",
    "\n",
    "When the shell sees the keyword `for`,\n",
    "it knows to repeat a command (or group of commands) once for each item in a list.\n",
    "Each time the loop runs (called an iteration), an item in the list is assigned in sequence to\n",
    "the **variable**, and the commands inside the loop are executed, before moving on to \n",
    "the next item in the list.\n",
    "Inside the loop,\n",
    "we call for the variable's value by putting `$` in front of it.\n",
    "The `$` tells the shell interpreter to treat\n",
    "the **variable** as a variable name and substitute its value in its place,\n",
    "rather than treat it as text or an external command. \n",
    "\n",
    "In this example, the list is two filenames: `snap001.txt` and `snap002.txt`.\n",
    "Each time the loop iterates, it will assign a file name to the variable `filename`\n",
    "and run the `head` command.\n",
    "The first time through the loop,\n",
    "`$filename` is `snap001.txt`. \n",
    "The interpreter runs the command `head` on `snap001.txt`, \n",
    "and the prints the \n",
    "first three lines of `snap001.txt`.\n",
    "For the second iteration, `$filename` becomes \n",
    "`snap002.txt`. This time, the shell runs `head` on `snap002.txt`\n",
    "and prints the first three lines of `snap002.txt`. \n",
    "Since the list was only two items, the shell exits the `for` loop.\n",
    "\n",
    "When using variables it is also\n",
    "possible to put the names into curly braces to clearly delimit the variable\n",
    "name: `$filename` is equivalent to `${filename}`, but is different from\n",
    "`${file}name`. You may find this notation in other people's programs.\n",
    "\n",
    "Returning to our example in the `high_equilibrium/snapshots/` directory,\n",
    "we have called the variable in this loop `filename`\n",
    "in order to make its purpose clearer to human readers.\n",
    "The shell itself doesn't care what the variable is called;\n",
    "if we wrote this loop as:"
   ]
  },
  {
   "cell_type": "code",
   "execution_count": 5,
   "metadata": {},
   "outputs": [
    {
     "name": "stdout",
     "output_type": "stream",
     "text": [
      "Mass\tx\ty\tz\tvx\tvy\tvz\n",
      "M_sol\tParsecs\tParsecs\tParsecs\tkm/s\tkm/s\tkm/s\n",
      "\n",
      "0.11\t1.15\t0.6\t1.3\t-0.01\t0.89\t1.12\n",
      "Mass\tx\ty\tz\tvx\tvy\tvz\n",
      "M_sol\tParsecs\tParsecs\tParsecs\tkm/s\tkm/s\tkm/s\n",
      "\n",
      "0.11\t1.14\t0.68\t1.41\t-0.19\t0.75\t1.19\n"
     ]
    }
   ],
   "source": [
    "for x in snap001.txt snap002.txt\n",
    "do\n",
    "    head -n 4 $x\n",
    "done"
   ]
  },
  {
   "cell_type": "markdown",
   "metadata": {},
   "source": [
    "or"
   ]
  },
  {
   "cell_type": "code",
   "execution_count": 6,
   "metadata": {},
   "outputs": [
    {
     "name": "stdout",
     "output_type": "stream",
     "text": [
      "Mass\tx\ty\tz\tvx\tvy\tvz\n",
      "M_sol\tParsecs\tParsecs\tParsecs\tkm/s\tkm/s\tkm/s\n",
      "\n",
      "0.11\t1.15\t0.6\t1.3\t-0.01\t0.89\t1.12\n",
      "Mass\tx\ty\tz\tvx\tvy\tvz\n",
      "M_sol\tParsecs\tParsecs\tParsecs\tkm/s\tkm/s\tkm/s\n",
      "\n",
      "0.11\t1.14\t0.68\t1.41\t-0.19\t0.75\t1.19\n"
     ]
    }
   ],
   "source": [
    "for temperature in snap001.txt snap002.txt\n",
    "do\n",
    "    head -n 4 $temperature\n",
    "done"
   ]
  },
  {
   "cell_type": "markdown",
   "metadata": {},
   "source": [
    "it would work exactly the same way.\n",
    "*Don't do this.*\n",
    "Programs are only useful if people can understand them,\n",
    "so meaningless names (like `x`) or misleading names (like `temperature`)\n",
    "increase the odds that the program won't do what its readers think it does.\n",
    "\n",
    "Let's continue with our example in the `high_equilibrium/snapshots/` directory.\n",
    "Here's a slightly more complicated loop:"
   ]
  },
  {
   "cell_type": "code",
   "execution_count": 7,
   "metadata": {},
   "outputs": [
    {
     "name": "stdout",
     "output_type": "stream",
     "text": [
      "snap001.txt\n",
      "0.11\t1.15\t0.6\t1.3\t-0.01\t0.89\t1.12\n",
      "snap002.txt\n",
      "0.11\t1.14\t0.68\t1.41\t-0.19\t0.75\t1.19\n"
     ]
    }
   ],
   "source": [
    "for filename in snap001.txt snap002.txt\n",
    "do\n",
    "    echo $filename\n",
    "    head -n 4 $filename | tail -n 1\n",
    "done"
   ]
  },
  {
   "cell_type": "markdown",
   "metadata": {},
   "source": [
    "The **loop body**\n",
    "then executes two commands for each of those files.\n",
    "The first, `echo`, just prints its command-line arguments to standard output.\n",
    "\n",
    "In this case,\n",
    "since the shell expands `$filename` to be the name of a file,\n",
    "`echo $filename` just prints the name of the file.\n",
    "Note that we can't write this as:"
   ]
  },
  {
   "cell_type": "code",
   "execution_count": 8,
   "metadata": {},
   "outputs": [
    {
     "name": "stdout",
     "output_type": "stream",
     "text": [
      "bash: snap001.txt: command not found\n",
      "0.11\t1.15\t0.6\t1.3\t-0.01\t0.89\t1.12\n",
      "bash: snap002.txt: command not found\n",
      "0.11\t1.14\t0.68\t1.41\t-0.19\t0.75\t1.19\n"
     ]
    }
   ],
   "source": [
    "for filename in snap001.txt snap002.txt\n",
    "do\n",
    "    $filename\n",
    "    head -n 4 $filename | tail -n 1\n",
    "done"
   ]
  },
  {
   "cell_type": "markdown",
   "metadata": {},
   "source": [
    "because then the first time through the loop,\n",
    "when `$filename` expanded to `snap001.txt`, the shell would try to run `snap001.txt` as a program.\n",
    "Finally,\n",
    "the `head` and `tail` combination selects line 4\n",
    "from whatever file is being processed\n",
    "(assuming the file has at least 4 lines).\n",
    "\n",
    "Going back to our original file copying problem, we can solve it using this loop:"
   ]
  },
  {
   "cell_type": "code",
   "execution_count": 9,
   "metadata": {},
   "outputs": [],
   "source": [
    "for filename in *.txt\n",
    "do\n",
    "    cp $filename original-$filename\n",
    "done"
   ]
  },
  {
   "cell_type": "markdown",
   "metadata": {},
   "source": [
    "This loop runs the `cp` command once for each filename.\n",
    "\n",
    "Since the `cp` command does not normally produce any output, it’s hard to check that the loop is doing the correct thing. By prefixing the command with `echo` it is possible to see each command as it would be executed."
   ]
  },
  {
   "cell_type": "code",
   "execution_count": 10,
   "metadata": {},
   "outputs": [
    {
     "name": "stdout",
     "output_type": "stream",
     "text": [
      "Copying original-snap001.txt ...\n",
      "original-snap001.txt copied sucessfully\n",
      "Copying original-snap002.txt ...\n",
      "original-snap002.txt copied sucessfully\n",
      "Copying original-snap003.txt ...\n",
      "original-snap003.txt copied sucessfully\n",
      "Copying original-snap004.txt ...\n",
      "original-snap004.txt copied sucessfully\n",
      "Copying original-snap005.txt ...\n",
      "original-snap005.txt copied sucessfully\n",
      "Copying original-snap006.txt ...\n",
      "original-snap006.txt copied sucessfully\n",
      "Copying original-snap007.txt ...\n",
      "original-snap007.txt copied sucessfully\n",
      "Copying original-snap008.txt ...\n",
      "original-snap008.txt copied sucessfully\n",
      "Copying original-snap009.txt ...\n",
      "original-snap009.txt copied sucessfully\n",
      "Copying original-snap010.txt ...\n",
      "original-snap010.txt copied sucessfully\n",
      "Copying original-snap011.txt ...\n",
      "original-snap011.txt copied sucessfully\n",
      "Copying original-snap012.txt ...\n",
      "original-snap012.txt copied sucessfully\n",
      "Copying original-snap013.txt ...\n",
      "original-snap013.txt copied sucessfully\n",
      "Copying original-snap014.txt ...\n",
      "original-snap014.txt copied sucessfully\n",
      "Copying original-snap015.txt ...\n",
      "original-snap015.txt copied sucessfully\n",
      "Copying original-snap016.txt ...\n",
      "original-snap016.txt copied sucessfully\n",
      "Copying original-snap017.txt ...\n",
      "original-snap017.txt copied sucessfully\n",
      "Copying original-snap018.txt ...\n",
      "original-snap018.txt copied sucessfully\n",
      "Copying original-snap019.txt ...\n",
      "original-snap019.txt copied sucessfully\n",
      "Copying original-snap020.txt ...\n",
      "original-snap020.txt copied sucessfully\n",
      "Copying original-snap021.txt ...\n",
      "original-snap021.txt copied sucessfully\n",
      "Copying original-snap022.txt ...\n",
      "original-snap022.txt copied sucessfully\n",
      "Copying original-snap023.txt ...\n",
      "original-snap023.txt copied sucessfully\n",
      "Copying original-snap024.txt ...\n",
      "original-snap024.txt copied sucessfully\n",
      "Copying original-snap025.txt ...\n",
      "original-snap025.txt copied sucessfully\n",
      "Copying original-snap026.txt ...\n",
      "original-snap026.txt copied sucessfully\n",
      "Copying original-snap027.txt ...\n",
      "original-snap027.txt copied sucessfully\n",
      "Copying original-snap028.txt ...\n",
      "original-snap028.txt copied sucessfully\n",
      "Copying original-snap029.txt ...\n",
      "original-snap029.txt copied sucessfully\n",
      "Copying original-snap030.txt ...\n",
      "original-snap030.txt copied sucessfully\n",
      "Copying original-snap031.txt ...\n",
      "original-snap031.txt copied sucessfully\n",
      "Copying original-snap032.txt ...\n",
      "original-snap032.txt copied sucessfully\n",
      "Copying original-snap033.txt ...\n",
      "original-snap033.txt copied sucessfully\n",
      "Copying original-snap034.txt ...\n",
      "original-snap034.txt copied sucessfully\n",
      "Copying original-snap035.txt ...\n",
      "original-snap035.txt copied sucessfully\n",
      "Copying original-snap036.txt ...\n",
      "original-snap036.txt copied sucessfully\n",
      "Copying original-snap037.txt ...\n",
      "original-snap037.txt copied sucessfully\n",
      "Copying original-snap038.txt ...\n",
      "original-snap038.txt copied sucessfully\n",
      "Copying original-snap039.txt ...\n",
      "original-snap039.txt copied sucessfully\n",
      "Copying original-snap040.txt ...\n",
      "original-snap040.txt copied sucessfully\n",
      "Copying original-snap041.txt ...\n",
      "original-snap041.txt copied sucessfully\n",
      "Copying original-snap042.txt ...\n",
      "original-snap042.txt copied sucessfully\n",
      "Copying original-snap043.txt ...\n",
      "original-snap043.txt copied sucessfully\n",
      "Copying original-snap044.txt ...\n",
      "original-snap044.txt copied sucessfully\n",
      "Copying original-snap045.txt ...\n",
      "original-snap045.txt copied sucessfully\n",
      "Copying original-snap046.txt ...\n",
      "original-snap046.txt copied sucessfully\n",
      "Copying original-snap047.txt ...\n",
      "original-snap047.txt copied sucessfully\n",
      "Copying original-snap048.txt ...\n",
      "original-snap048.txt copied sucessfully\n",
      "Copying original-snap049.txt ...\n",
      "original-snap049.txt copied sucessfully\n",
      "Copying original-snap050.txt ...\n",
      "original-snap050.txt copied sucessfully\n",
      "Copying original-snap051.txt ...\n",
      "original-snap051.txt copied sucessfully\n",
      "Copying original-snap052.txt ...\n",
      "original-snap052.txt copied sucessfully\n",
      "Copying original-snap053.txt ...\n",
      "original-snap053.txt copied sucessfully\n",
      "Copying original-snap054.txt ...\n",
      "original-snap054.txt copied sucessfully\n",
      "Copying original-snap055.txt ...\n",
      "original-snap055.txt copied sucessfully\n",
      "Copying original-snap056.txt ...\n",
      "original-snap056.txt copied sucessfully\n",
      "Copying original-snap057.txt ...\n",
      "original-snap057.txt copied sucessfully\n",
      "Copying original-snap058.txt ...\n",
      "original-snap058.txt copied sucessfully\n",
      "Copying original-snap059.txt ...\n",
      "original-snap059.txt copied sucessfully\n",
      "Copying original-snap060.txt ...\n",
      "original-snap060.txt copied sucessfully\n",
      "Copying original-snap061.txt ...\n",
      "original-snap061.txt copied sucessfully\n",
      "Copying original-snap062.txt ...\n",
      "original-snap062.txt copied sucessfully\n",
      "Copying original-snap063.txt ...\n",
      "original-snap063.txt copied sucessfully\n",
      "Copying original-snap064.txt ...\n",
      "original-snap064.txt copied sucessfully\n",
      "Copying original-snap065.txt ...\n",
      "original-snap065.txt copied sucessfully\n",
      "Copying original-snap066.txt ...\n",
      "original-snap066.txt copied sucessfully\n",
      "Copying original-snap067.txt ...\n",
      "original-snap067.txt copied sucessfully\n",
      "Copying original-snap068.txt ...\n",
      "original-snap068.txt copied sucessfully\n",
      "Copying original-snap069.txt ...\n",
      "original-snap069.txt copied sucessfully\n",
      "Copying original-snap070.txt ...\n",
      "original-snap070.txt copied sucessfully\n",
      "Copying original-snap071.txt ...\n",
      "original-snap071.txt copied sucessfully\n",
      "Copying original-snap072.txt ...\n",
      "original-snap072.txt copied sucessfully\n",
      "Copying original-snap073.txt ...\n",
      "original-snap073.txt copied sucessfully\n",
      "Copying original-snap074.txt ...\n",
      "original-snap074.txt copied sucessfully\n",
      "Copying original-snap075.txt ...\n",
      "original-snap075.txt copied sucessfully\n",
      "Copying original-snap076.txt ...\n",
      "original-snap076.txt copied sucessfully\n",
      "Copying original-snap077.txt ...\n",
      "original-snap077.txt copied sucessfully\n",
      "Copying original-snap078.txt ...\n",
      "original-snap078.txt copied sucessfully\n",
      "Copying original-snap079.txt ...\n",
      "original-snap079.txt copied sucessfully\n",
      "Copying original-snap080.txt ...\n",
      "original-snap080.txt copied sucessfully\n",
      "Copying original-snap081.txt ...\n",
      "original-snap081.txt copied sucessfully\n",
      "Copying original-snap082.txt ...\n",
      "original-snap082.txt copied sucessfully\n",
      "Copying original-snap083.txt ...\n",
      "original-snap083.txt copied sucessfully\n",
      "Copying original-snap084.txt ...\n",
      "original-snap084.txt copied sucessfully\n",
      "Copying original-snap085.txt ...\n",
      "original-snap085.txt copied sucessfully\n",
      "Copying original-snap086.txt ...\n",
      "original-snap086.txt copied sucessfully\n",
      "Copying original-snap087.txt ...\n",
      "original-snap087.txt copied sucessfully\n",
      "Copying original-snap088.txt ...\n",
      "original-snap088.txt copied sucessfully\n",
      "Copying original-snap089.txt ...\n",
      "original-snap089.txt copied sucessfully\n",
      "Copying original-snap090.txt ...\n",
      "original-snap090.txt copied sucessfully\n",
      "Copying original-snap091.txt ...\n",
      "original-snap091.txt copied sucessfully\n",
      "Copying original-snap092.txt ...\n",
      "original-snap092.txt copied sucessfully\n",
      "Copying original-snap093.txt ...\n",
      "original-snap093.txt copied sucessfully\n",
      "Copying original-snap094.txt ...\n",
      "original-snap094.txt copied sucessfully\n",
      "Copying original-snap095.txt ...\n",
      "original-snap095.txt copied sucessfully\n",
      "Copying original-snap096.txt ...\n",
      "original-snap096.txt copied sucessfully\n",
      "Copying original-snap097.txt ...\n",
      "original-snap097.txt copied sucessfully\n",
      "Copying original-snap098.txt ...\n",
      "original-snap098.txt copied sucessfully\n",
      "Copying original-snap099.txt ...\n",
      "original-snap099.txt copied sucessfully\n",
      "Copying original-snap100.txt ...\n",
      "original-snap100.txt copied sucessfully\n",
      "Copying snap001.txt ...\n",
      "snap001.txt copied sucessfully\n",
      "Copying snap002.txt ...\n",
      "snap002.txt copied sucessfully\n",
      "Copying snap003.txt ...\n",
      "snap003.txt copied sucessfully\n",
      "Copying snap004.txt ...\n",
      "snap004.txt copied sucessfully\n",
      "Copying snap005.txt ...\n",
      "snap005.txt copied sucessfully\n",
      "Copying snap006.txt ...\n",
      "snap006.txt copied sucessfully\n",
      "Copying snap007.txt ...\n",
      "snap007.txt copied sucessfully\n",
      "Copying snap008.txt ...\n",
      "snap008.txt copied sucessfully\n",
      "Copying snap009.txt ...\n",
      "snap009.txt copied sucessfully\n",
      "Copying snap010.txt ...\n",
      "snap010.txt copied sucessfully\n",
      "Copying snap011.txt ...\n",
      "snap011.txt copied sucessfully\n",
      "Copying snap012.txt ...\n",
      "snap012.txt copied sucessfully\n",
      "Copying snap013.txt ...\n",
      "snap013.txt copied sucessfully\n",
      "Copying snap014.txt ...\n",
      "snap014.txt copied sucessfully\n",
      "Copying snap015.txt ...\n",
      "snap015.txt copied sucessfully\n",
      "Copying snap016.txt ...\n",
      "snap016.txt copied sucessfully\n",
      "Copying snap017.txt ...\n"
     ]
    },
    {
     "name": "stdout",
     "output_type": "stream",
     "text": [
      "snap017.txt copied sucessfully\n",
      "Copying snap018.txt ...\n",
      "snap018.txt copied sucessfully\n",
      "Copying snap019.txt ...\n",
      "snap019.txt copied sucessfully\n",
      "Copying snap020.txt ...\n",
      "snap020.txt copied sucessfully\n",
      "Copying snap021.txt ...\n",
      "snap021.txt copied sucessfully\n",
      "Copying snap022.txt ...\n",
      "snap022.txt copied sucessfully\n",
      "Copying snap023.txt ...\n",
      "snap023.txt copied sucessfully\n",
      "Copying snap024.txt ...\n",
      "snap024.txt copied sucessfully\n",
      "Copying snap025.txt ...\n",
      "snap025.txt copied sucessfully\n",
      "Copying snap026.txt ...\n",
      "snap026.txt copied sucessfully\n",
      "Copying snap027.txt ...\n",
      "snap027.txt copied sucessfully\n",
      "Copying snap028.txt ...\n",
      "snap028.txt copied sucessfully\n",
      "Copying snap029.txt ...\n",
      "snap029.txt copied sucessfully\n",
      "Copying snap030.txt ...\n",
      "snap030.txt copied sucessfully\n",
      "Copying snap031.txt ...\n",
      "snap031.txt copied sucessfully\n",
      "Copying snap032.txt ...\n",
      "snap032.txt copied sucessfully\n",
      "Copying snap033.txt ...\n",
      "snap033.txt copied sucessfully\n",
      "Copying snap034.txt ...\n",
      "snap034.txt copied sucessfully\n",
      "Copying snap035.txt ...\n",
      "snap035.txt copied sucessfully\n",
      "Copying snap036.txt ...\n",
      "snap036.txt copied sucessfully\n",
      "Copying snap037.txt ...\n",
      "snap037.txt copied sucessfully\n",
      "Copying snap038.txt ...\n",
      "snap038.txt copied sucessfully\n",
      "Copying snap039.txt ...\n",
      "snap039.txt copied sucessfully\n",
      "Copying snap040.txt ...\n",
      "snap040.txt copied sucessfully\n",
      "Copying snap041.txt ...\n",
      "snap041.txt copied sucessfully\n",
      "Copying snap042.txt ...\n",
      "snap042.txt copied sucessfully\n",
      "Copying snap043.txt ...\n",
      "snap043.txt copied sucessfully\n",
      "Copying snap044.txt ...\n",
      "snap044.txt copied sucessfully\n",
      "Copying snap045.txt ...\n",
      "snap045.txt copied sucessfully\n",
      "Copying snap046.txt ...\n",
      "snap046.txt copied sucessfully\n",
      "Copying snap047.txt ...\n",
      "snap047.txt copied sucessfully\n",
      "Copying snap048.txt ...\n",
      "snap048.txt copied sucessfully\n",
      "Copying snap049.txt ...\n",
      "snap049.txt copied sucessfully\n",
      "Copying snap050.txt ...\n",
      "snap050.txt copied sucessfully\n",
      "Copying snap051.txt ...\n",
      "snap051.txt copied sucessfully\n",
      "Copying snap052.txt ...\n",
      "snap052.txt copied sucessfully\n",
      "Copying snap053.txt ...\n",
      "snap053.txt copied sucessfully\n",
      "Copying snap054.txt ...\n",
      "snap054.txt copied sucessfully\n",
      "Copying snap055.txt ...\n",
      "snap055.txt copied sucessfully\n",
      "Copying snap056.txt ...\n",
      "snap056.txt copied sucessfully\n",
      "Copying snap057.txt ...\n",
      "snap057.txt copied sucessfully\n",
      "Copying snap058.txt ...\n",
      "snap058.txt copied sucessfully\n",
      "Copying snap059.txt ...\n",
      "snap059.txt copied sucessfully\n",
      "Copying snap060.txt ...\n",
      "snap060.txt copied sucessfully\n",
      "Copying snap061.txt ...\n",
      "snap061.txt copied sucessfully\n",
      "Copying snap062.txt ...\n",
      "snap062.txt copied sucessfully\n",
      "Copying snap063.txt ...\n",
      "snap063.txt copied sucessfully\n",
      "Copying snap064.txt ...\n",
      "snap064.txt copied sucessfully\n",
      "Copying snap065.txt ...\n",
      "snap065.txt copied sucessfully\n",
      "Copying snap066.txt ...\n",
      "snap066.txt copied sucessfully\n",
      "Copying snap067.txt ...\n",
      "snap067.txt copied sucessfully\n",
      "Copying snap068.txt ...\n",
      "snap068.txt copied sucessfully\n",
      "Copying snap069.txt ...\n",
      "snap069.txt copied sucessfully\n",
      "Copying snap070.txt ...\n",
      "snap070.txt copied sucessfully\n",
      "Copying snap071.txt ...\n",
      "snap071.txt copied sucessfully\n",
      "Copying snap072.txt ...\n",
      "snap072.txt copied sucessfully\n",
      "Copying snap073.txt ...\n",
      "snap073.txt copied sucessfully\n",
      "Copying snap074.txt ...\n",
      "snap074.txt copied sucessfully\n",
      "Copying snap075.txt ...\n",
      "snap075.txt copied sucessfully\n",
      "Copying snap076.txt ...\n",
      "snap076.txt copied sucessfully\n",
      "Copying snap077.txt ...\n",
      "snap077.txt copied sucessfully\n",
      "Copying snap078.txt ...\n",
      "snap078.txt copied sucessfully\n",
      "Copying snap079.txt ...\n",
      "snap079.txt copied sucessfully\n",
      "Copying snap080.txt ...\n",
      "snap080.txt copied sucessfully\n",
      "Copying snap081.txt ...\n",
      "snap081.txt copied sucessfully\n",
      "Copying snap082.txt ...\n",
      "snap082.txt copied sucessfully\n",
      "Copying snap083.txt ...\n",
      "snap083.txt copied sucessfully\n",
      "Copying snap084.txt ...\n",
      "snap084.txt copied sucessfully\n",
      "Copying snap085.txt ...\n",
      "snap085.txt copied sucessfully\n",
      "Copying snap086.txt ...\n",
      "snap086.txt copied sucessfully\n",
      "Copying snap087.txt ...\n",
      "snap087.txt copied sucessfully\n",
      "Copying snap088.txt ...\n",
      "snap088.txt copied sucessfully\n",
      "Copying snap089.txt ...\n",
      "snap089.txt copied sucessfully\n",
      "Copying snap090.txt ...\n",
      "snap090.txt copied sucessfully\n",
      "Copying snap091.txt ...\n",
      "snap091.txt copied sucessfully\n",
      "Copying snap092.txt ...\n",
      "snap092.txt copied sucessfully\n",
      "Copying snap093.txt ...\n",
      "snap093.txt copied sucessfully\n",
      "Copying snap094.txt ...\n",
      "snap094.txt copied sucessfully\n",
      "Copying snap095.txt ...\n",
      "snap095.txt copied sucessfully\n",
      "Copying snap096.txt ...\n",
      "snap096.txt copied sucessfully\n",
      "Copying snap097.txt ...\n",
      "snap097.txt copied sucessfully\n",
      "Copying snap098.txt ...\n",
      "snap098.txt copied sucessfully\n",
      "Copying snap099.txt ...\n",
      "snap099.txt copied sucessfully\n",
      "Copying snap100.txt ...\n",
      "snap100.txt copied sucessfully\n"
     ]
    }
   ],
   "source": [
    "for filename in *.txt\n",
    "do\n",
    "    echo \"Copying $filename ...\" && cp $filename original-$filename && echo \"$filename copied sucessfully\"\n",
    "done"
   ]
  },
  {
   "cell_type": "markdown",
   "metadata": {},
   "source": [
    "The `&&` operator separate items in a list of commands. The command after `&&` is executed if, and only if, the command before returns an exit status of zero. This ensure that if the command `cp` fail for any reason we see that information on our log. If you are expecting the first commnd to returns a non-zero exit status, you can use the `||` operator."
   ]
  },
  {
   "cell_type": "markdown",
   "metadata": {},
   "source": [
    "In our example, we named the new files as `original-$filename`. If we run the same loop, `for filename in *.txt`, again, we would end up with files `snap001.txt`, `original-snap001.txt`, `original-original-snap001.txt`, `snap002.txt`, `original-snap002.txt`, `original-original-snap002.txt`, and so on. We can use shell parameter expansion to avoid this. We are only going to see three expansions and we invite you to visit the [manual](https://www.gnu.org/software/bash/manual/html_node/Shell-Parameter-Expansion.html#Shell-Parameter-Expansion) for more.\n",
    "\n",
    "To trim the parameter we can use `${parameter:offset:length}`."
   ]
  },
  {
   "cell_type": "code",
   "execution_count": 11,
   "metadata": {},
   "outputs": [
    {
     "name": "stdout",
     "output_type": "stream",
     "text": [
      "7890abcdefgh\n"
     ]
    }
   ],
   "source": [
    "string=01234567890abcdefgh\n",
    "echo ${string:7}"
   ]
  },
  {
   "cell_type": "code",
   "execution_count": 12,
   "metadata": {},
   "outputs": [
    {
     "name": "stdout",
     "output_type": "stream",
     "text": [
      "\n"
     ]
    }
   ],
   "source": [
    "echo ${string:7:0}"
   ]
  },
  {
   "cell_type": "code",
   "execution_count": 13,
   "metadata": {},
   "outputs": [
    {
     "name": "stdout",
     "output_type": "stream",
     "text": [
      "78\n"
     ]
    }
   ],
   "source": [
    "echo ${string:7:2}"
   ]
  },
  {
   "cell_type": "code",
   "execution_count": 14,
   "metadata": {},
   "outputs": [
    {
     "name": "stdout",
     "output_type": "stream",
     "text": [
      "7890abcdef\n"
     ]
    }
   ],
   "source": [
    "echo ${string:7:-2}"
   ]
  },
  {
   "cell_type": "code",
   "execution_count": 15,
   "metadata": {},
   "outputs": [
    {
     "name": "stdout",
     "output_type": "stream",
     "text": [
      "bcdefgh\n"
     ]
    }
   ],
   "source": [
    "echo ${string: -7}"
   ]
  },
  {
   "cell_type": "code",
   "execution_count": 16,
   "metadata": {},
   "outputs": [
    {
     "name": "stdout",
     "output_type": "stream",
     "text": [
      "\n"
     ]
    }
   ],
   "source": [
    "echo ${string: -7:0}"
   ]
  },
  {
   "cell_type": "code",
   "execution_count": 17,
   "metadata": {},
   "outputs": [
    {
     "name": "stdout",
     "output_type": "stream",
     "text": [
      "bc\n"
     ]
    }
   ],
   "source": [
    "echo ${string: -7:2}"
   ]
  },
  {
   "cell_type": "code",
   "execution_count": 18,
   "metadata": {},
   "outputs": [
    {
     "name": "stdout",
     "output_type": "stream",
     "text": [
      "bcdef\n"
     ]
    }
   ],
   "source": [
    "echo ${string: -7:-2}"
   ]
  },
  {
   "cell_type": "markdown",
   "metadata": {},
   "source": [
    "To replace part of the parameter, we can use `${parameter/pattern/string}`."
   ]
  },
  {
   "cell_type": "code",
   "execution_count": 19,
   "metadata": {},
   "outputs": [],
   "source": [
    "filename=snap001.txt"
   ]
  },
  {
   "cell_type": "code",
   "execution_count": 20,
   "metadata": {},
   "outputs": [
    {
     "name": "stdout",
     "output_type": "stream",
     "text": [
      "shot001.txt\n"
     ]
    }
   ],
   "source": [
    "echo ${filename/snap/shot}"
   ]
  },
  {
   "cell_type": "code",
   "execution_count": 21,
   "metadata": {},
   "outputs": [
    {
     "name": "stdout",
     "output_type": "stream",
     "text": [
      "snap001.backup\n"
     ]
    }
   ],
   "source": [
    "echo ${filename/.txt/.backup}"
   ]
  },
  {
   "cell_type": "markdown",
   "metadata": {},
   "source": [
    "Replace part of the parameter is very handful when using commands that require the name of the input and output file and they have different extensions."
   ]
  },
  {
   "cell_type": "markdown",
   "metadata": {},
   "source": [
    "The third and last expansion that we are going to see is called, command substitution. Command substitution allows the output of a command to replace the command itself. Command substitution occurs when a command is enclosed as follows:\n",
    "\n",
    "```\n",
    "$(command)\n",
    "```\n",
    "\n",
    "Bash performs the expansion by executing command in a subshell environment and replacing the command substitution with the standard output of the command, with any trailing newlines deleted. Suppose that you keep a file call `snap2run.list` with a list of the files that you want to process."
   ]
  },
  {
   "cell_type": "code",
   "execution_count": 22,
   "metadata": {},
   "outputs": [
    {
     "name": "stdout",
     "output_type": "stream",
     "text": [
      "snap001.txt\n",
      "snap002.txt\n"
     ]
    }
   ],
   "source": [
    "cat snap2run.list"
   ]
  },
  {
   "cell_type": "markdown",
   "metadata": {},
   "source": [
    "You can use the command substitution to get the names from that file."
   ]
  },
  {
   "cell_type": "code",
   "execution_count": 23,
   "metadata": {},
   "outputs": [
    {
     "name": "stdout",
     "output_type": "stream",
     "text": [
      "Copying snap001.txt ...\n",
      "snap001.txt copied sucessfully\n",
      "Copying snap002.txt ...\n",
      "snap002.txt copied sucessfully\n"
     ]
    }
   ],
   "source": [
    "for filename in $(cat snap2run.list)\n",
    "do\n",
    "    echo \"Copying $filename ...\" && cp $filename original-$filename && echo \"$filename copied sucessfully\"\n",
    "done"
   ]
  },
  {
   "cell_type": "markdown",
   "metadata": {},
   "source": [
    "In the previous example, we use `cat` but we could have used any other command.\n",
    "\n",
    "Talking about conditionally processing or not one file, Bash has builtin conditional expressions."
   ]
  },
  {
   "cell_type": "markdown",
   "metadata": {},
   "source": [
    "Expressions may be unary or binary. Unary expressions are often used to examine the status of a file. There are string operators and numeric comparison operators as well. The full list of expressions is below.\n",
    "\n",
    "- `-a file`: True if file exists.\n",
    "- `-b file`: True if file exists and is a block special file.\n",
    "- `-c file`: True if file exists and is a character special file.\n",
    "- `-d file`: True if file exists and is a directory.\n",
    "- `-e file`: True if file exists.\n",
    "- `-f file`: True if file exists and is a regular file.\n",
    "- `-g file`: True if file exists and its set-group-id bit is set.\n",
    "- `-h file`: True if file exists and is a symbolic link.\n",
    "- `-k file`: True if file exists and its \"sticky\" bit is set.\n",
    "- `-p file`: True if file exists and is a named pipe (FIFO).\n",
    "- `-r file`: True if file exists and is readable.\n",
    "- `-s file`: True if file exists and has a size greater than zero.\n",
    "- `-t fd`: True if file descriptor fd is open and refers to a terminal.\n",
    "- `-u file`: True if file exists and its set-user-id bit is set.\n",
    "- `-w file`: True if file exists and is writable.\n",
    "- `-x file`: True if file exists and is executable.\n",
    "- `-G file`: True if file exists and is owned by the effective group id.\n",
    "- `-L file`: True if file exists and is a symbolic link.\n",
    "- `-N file`: True if file exists and has been modified since it was last read.\n",
    "- `-O file`: True if file exists and is owned by the effective user id.\n",
    "- `-S file`: True if file exists and is a socket.\n",
    "- `file1 -ef file2`: True if file1 and file2 refer to the same device and inode numbers.\n",
    "- `file1 -nt file2`: True if file1 is newer (according to modification date) than file2, or if file1 exists and file2 does not.\n",
    "- `file1 -ot file2`: True if file1 is older than file2, or if file2 exists and file1 does not.\n",
    "- `-o optname`: True if the shell option optname is enabled. The list of options appears in the description of the -o option to the set builtin (see The Set Builtin).\n",
    "- `-v varname`: True if the shell variable varname is set (has been assigned a value).\n",
    "- `-R varname`: True if the shell variable varname is set and is a name reference.\n",
    "- `-z string`: True if the length of string is zero.\n",
    "- `-n string`: True if the length of string is non-zero.\n",
    "- `string1 == string2`: True if the strings are equal.\n",
    "- `string1 != string2`: True if the strings are not equal.\n",
    "- `string1 < string2`: True if string1 sorts before string2 lexicographically.\n",
    "- `string1 > string2`: True if string1 sorts after string2 lexicographically.\n",
    "- `arg1 OP arg2`: `OP` is one of `-eq`, `-ne`, `-lt`, `-le`, `-gt`, or `-ge`. These arithmetic binary operators return true if `arg1` is equal to, not equal to, less than, less than or equal to, greater than, or greater than or equal to `arg2`, respectively. `arg1` and `arg2` may be positive or negative integers.\n",
    "\n",
    "For example, if we want to not run the loop for `snap001.txt`, we could do"
   ]
  },
  {
   "cell_type": "code",
   "execution_count": 24,
   "metadata": {},
   "outputs": [
    {
     "name": "stdout",
     "output_type": "stream",
     "text": [
      "Copying snap002.txt ...\n",
      "snap002.txt copied sucessfully\n"
     ]
    }
   ],
   "source": [
    "for filename in $(cat snap2run.list)\n",
    "do\n",
    "    if [[ $filename != \"snap001.txt\" ]]\n",
    "    then\n",
    "        echo \"Copying $filename ...\" && cp $filename original-$filename && echo \"$filename copied sucessfully\"\n",
    "    fi\n",
    "done"
   ]
  }
 ],
 "metadata": {
  "kernelspec": {
   "display_name": "Bash",
   "language": "bash",
   "name": "bash"
  },
  "language_info": {
   "codemirror_mode": "shell",
   "file_extension": ".sh",
   "mimetype": "text/x-sh",
   "name": "bash"
  }
 },
 "nbformat": 4,
 "nbformat_minor": 2
}
